{
 "cells": [
  {
   "cell_type": "markdown",
   "id": "11259cae",
   "metadata": {},
   "source": [
    "재귀 함수\n",
    ": 함수가 자기 자신을 호출하는 재귀 함수"
   ]
  },
  {
   "cell_type": "code",
   "execution_count": 1,
   "id": "b859bfc2",
   "metadata": {},
   "outputs": [],
   "source": [
    "def hap(a,b):\n",
    "    print(a+b)\n",
    "\n",
    "def gop(a,b):\n",
    "    print(a*b)\n",
    "    \n",
    "def hap_gop(a,b):\n",
    "    hap(a,b) # 두 함수를 호출\n",
    "    gop(a,b)"
   ]
  },
  {
   "cell_type": "code",
   "execution_count": 2,
   "id": "656e915f",
   "metadata": {},
   "outputs": [
    {
     "name": "stdout",
     "output_type": "stream",
     "text": [
      "3\n",
      "2\n"
     ]
    }
   ],
   "source": [
    "hap_gop(1,2)"
   ]
  },
  {
   "cell_type": "code",
   "execution_count": 5,
   "id": "d4a0b630",
   "metadata": {},
   "outputs": [],
   "source": [
    "def countdown(n):\n",
    "    if n==0:\n",
    "        print(\"zero\")\n",
    "    else:\n",
    "        print(n)\n",
    "        countdown(n-1)"
   ]
  },
  {
   "cell_type": "code",
   "execution_count": 6,
   "id": "b7f1d4eb",
   "metadata": {},
   "outputs": [
    {
     "name": "stdout",
     "output_type": "stream",
     "text": [
      "5\n",
      "4\n",
      "3\n",
      "2\n",
      "1\n",
      "zero\n"
     ]
    }
   ],
   "source": [
    "countdown(5) # 4 3 2 1 0 총 5번 호출"
   ]
  },
  {
   "cell_type": "markdown",
   "id": "8a65c516",
   "metadata": {},
   "source": [
    "재귀함수는 조건을 걸어두지 않으면 무한히 호출하고, 어느정도 출력하다가 최대 재귀 깊이 초과 메세지가 출력된다."
   ]
  },
  {
   "cell_type": "markdown",
   "id": "d478c551",
   "metadata": {},
   "source": [
    "재귀 함수의 종료 조건"
   ]
  },
  {
   "cell_type": "code",
   "execution_count": 8,
   "id": "6b4fab8c",
   "metadata": {},
   "outputs": [
    {
     "name": "stdout",
     "output_type": "stream",
     "text": [
      "1 번째 재귀함수에서 2 번째 재귀함수를 호출합니다.\n",
      "2 번째 재귀함수에서 3 번째 재귀함수를 호출합니다.\n",
      "3 번째 재귀함수에서 4 번째 재귀함수를 호출합니다.\n",
      "4 번째 재귀함수에서 5 번째 재귀함수를 호출합니다.\n",
      "5 번째 재귀함수에서 6 번째 재귀함수를 호출합니다.\n",
      "6 번째 재귀함수에서 7 번째 재귀함수를 호출합니다.\n",
      "7 번째 재귀함수에서 8 번째 재귀함수를 호출합니다.\n",
      "8 번째 재귀함수에서 9 번째 재귀함수를 호출합니다.\n",
      "9 번째 재귀함수에서 10 번째 재귀함수를 호출합니다.\n",
      "9 번째 재귀함수를 종료합니다.\n",
      "8 번째 재귀함수를 종료합니다.\n",
      "7 번째 재귀함수를 종료합니다.\n",
      "6 번째 재귀함수를 종료합니다.\n",
      "5 번째 재귀함수를 종료합니다.\n",
      "4 번째 재귀함수를 종료합니다.\n",
      "3 번째 재귀함수를 종료합니다.\n",
      "2 번째 재귀함수를 종료합니다.\n",
      "1 번째 재귀함수를 종료합니다.\n"
     ]
    }
   ],
   "source": [
    "def re_function(i):\n",
    "    if i == 10:\n",
    "        return\n",
    "    print(i, '번째 재귀함수에서', i+1, '번째 재귀함수를 호출합니다.')\n",
    "    re_function(i+1)\n",
    "    print(i,'번째 재귀함수를 종료합니다.')\n",
    "    \n",
    "re_function(1)"
   ]
  },
  {
   "cell_type": "markdown",
   "id": "7af61f22",
   "metadata": {},
   "source": [
    "팩토리얼 구현 예제"
   ]
  },
  {
   "cell_type": "code",
   "execution_count": 9,
   "id": "a945d3fa",
   "metadata": {},
   "outputs": [],
   "source": [
    "def factorial_re(n):\n",
    "    if n<=1:\n",
    "        return 1\n",
    "    # 1부터 n까지의 수를 차례대로 곱하기\n",
    "    return n*factorial_re(n-1)"
   ]
  },
  {
   "cell_type": "code",
   "execution_count": 11,
   "id": "59419f97",
   "metadata": {},
   "outputs": [
    {
     "data": {
      "text/plain": [
       "120"
      ]
     },
     "execution_count": 11,
     "metadata": {},
     "output_type": "execute_result"
    }
   ],
   "source": [
    "factorial_re(5)"
   ]
  },
  {
   "cell_type": "markdown",
   "id": "23718d09",
   "metadata": {},
   "source": [
    "최대 공약수 계산(유클리드 호제법) 예제"
   ]
  },
  {
   "cell_type": "code",
   "execution_count": 13,
   "id": "6b132985",
   "metadata": {},
   "outputs": [
    {
     "name": "stdout",
     "output_type": "stream",
     "text": [
      "6\n"
     ]
    }
   ],
   "source": [
    "# 두 자연수 a,b에 대해 (A>B) A를 B로 나눈 나머지를 R이라고 하고,\n",
    "# 이때 A와 BA의 최대 공약수는 B와 R의 최대 공약수와 같다.\n",
    "\n",
    "# ex) A = 192, B = 162\n",
    "# 2단계 - 162       30\n",
    "# 3단계 -  30       12\n",
    "# 4단계 -  12        6\n",
    "\n",
    "# 10 6\n",
    "# 6 4\n",
    "# 4 2 \n",
    "\n",
    "def gcd(a,b):\n",
    "    if a%b == 0:\n",
    "        return b\n",
    "    else:\n",
    "        return gcd(b,a%b)\n",
    "print(gcd(192,162))"
   ]
  },
  {
   "cell_type": "code",
   "execution_count": null,
   "id": "05ede782",
   "metadata": {},
   "outputs": [],
   "source": []
  }
 ],
 "metadata": {
  "kernelspec": {
   "display_name": "Python 3 (ipykernel)",
   "language": "python",
   "name": "python3"
  },
  "language_info": {
   "codemirror_mode": {
    "name": "ipython",
    "version": 3
   },
   "file_extension": ".py",
   "mimetype": "text/x-python",
   "name": "python",
   "nbconvert_exporter": "python",
   "pygments_lexer": "ipython3",
   "version": "3.10.9"
  }
 },
 "nbformat": 4,
 "nbformat_minor": 5
}
