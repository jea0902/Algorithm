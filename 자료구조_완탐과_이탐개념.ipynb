{
 "cells": [
  {
   "cell_type": "markdown",
   "id": "ca806f09-c863-4614-829b-eb23790c20d4",
   "metadata": {},
   "source": [
    "완전탐색과 이진탐색"
   ]
  },
  {
   "cell_type": "code",
   "execution_count": null,
   "id": "1fbc906d-efe7-4b8d-b8dc-84f0f2991b91",
   "metadata": {},
   "outputs": [],
   "source": [
    "<완전 탐색 구현>\n",
    "\n",
    "1. 반복문으로 구현\n",
    "2. 재귀함수를 이용해 구현\n",
    "    - 재귀 함수의 경우 쉽게 무한 루프에 빠질 수 있어서, 탈출 조건을 꼭 미리 명시\n",
    "    - 재귀 함수는 동적 계획법, 백트래킹, 탐욕법으로 구현 가능"
   ]
  },
  {
   "cell_type": "code",
   "execution_count": null,
   "id": "94e0fecb-47d9-4fc1-85bf-9c33a453d89f",
   "metadata": {},
   "outputs": [],
   "source": [
    "<이진 탐색 구현>\n",
    "1. 초기 left, right 인덱스 값 선언\n",
    "2. left가 right보다 작거나 같다면 아래 반복\n",
    "    - (left + right)//2 로 mid값 계산\n",
    "    - mid 값과 비교하여 찾아야 ㅎ라는 값을 찾으면, 해당 값 return\n",
    "    - 찾아야 하는 값이 mid보다 작으면 right를 -1 이동\n",
    "    - 찾아야 하는 값이 mid보다 크면 left를 +1 이동\n",
    "3. left와 right가 딱 붙어버리거나 같아지면 탐색 완료"
   ]
  }
 ],
 "metadata": {
  "kernelspec": {
   "display_name": "Python 3 (ipykernel)",
   "language": "python",
   "name": "python3"
  },
  "language_info": {
   "codemirror_mode": {
    "name": "ipython",
    "version": 3
   },
   "file_extension": ".py",
   "mimetype": "text/x-python",
   "name": "python",
   "nbconvert_exporter": "python",
   "pygments_lexer": "ipython3",
   "version": "3.10.9"
  }
 },
 "nbformat": 4,
 "nbformat_minor": 5
}
