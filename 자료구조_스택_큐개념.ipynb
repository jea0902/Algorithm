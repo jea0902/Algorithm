{
 "cells": [
  {
   "cell_type": "code",
   "execution_count": null,
   "id": "39884684-ba95-422a-8cef-1c421bd01fe7",
   "metadata": {},
   "outputs": [],
   "source": [
    "스택 & 큐 개념"
   ]
  },
  {
   "cell_type": "code",
   "execution_count": null,
   "id": "3ab76fbe-635a-40cc-95b8-96a1042a568f",
   "metadata": {},
   "outputs": [],
   "source": [
    "스택(팬케이크)\n",
    "\n",
    "Last in First out 방식\n",
    "같은 구조와 크기의 자료를 정해진 방향으로만 쌓을 수 있고, top으로 정한 곳을 통해서만 접근할 수 있다.\n",
    "\n",
    "top은 가장 최근에 들어온 자료.\n",
    "\n",
    "top을 통해 삽입하는 연산을 push\n",
    "top을 삭제하는 연산은 pop이라고 한다."
   ]
  },
  {
   "cell_type": "code",
   "execution_count": null,
   "id": "13d0073e-ef39-465a-8881-7067037b0c33",
   "metadata": {},
   "outputs": [],
   "source": [
    "# 스택 구현 예제\n",
    "    # 파이썬은 스택을 따로 라이브러리로 사용할 필요X\n",
    "stack=[]\n",
    "\n",
    "# 삽입(5) - 삽입(2) - 삽입(3) - 삽입(7) - 삭제() - 삽입(1) - 삽입(4) - 삭제()\n",
    "stack.append(5) # 가장 오른쪽에 삽입\n",
    "stack.append(2)\n",
    "stack.append(3)\n",
    "stack.append(7)\n",
    "stack.pop() # 가장 오른쪽 원소 삭제\n",
    "stack.append(1)\n",
    "stack.append(4)\n",
    "stack.pop()\n",
    "\n",
    "print(stack[::-1]) # 최 상단 원소부터 출력\n"
   ]
  },
  {
   "cell_type": "code",
   "execution_count": null,
   "id": "b68fe26e-92c3-4a65-8aa9-67841f3355d0",
   "metadata": {},
   "outputs": [],
   "source": [
    "큐(선착순)\n",
    "\n",
    "큐는 줄, 줄을 서서 기다리는 것을 의미.\n",
    "은행에서 먼저 온 사람의 업무를 창구에서 처리하는 것과 같이\n",
    "선입 선출 First in First out 방식\n",
    "\n",
    "정해진 곳(top)을 통해서 삽입, 삭제가 이루어지는 스택과는 달리\n",
    "큐는 한쪽 끝에서 삽입 작업이, 다른 쪽 끝에서 삭제 작업이 양쪽으로 이루어진다.\n",
    "(입구와 출구가 모두 뚫려 있는 터널)\n",
    "\n",
    "이때 삭제연산만 수행되는 곳을 프론트(Front), 삽입 연산만 이루어지는 곳을 (Rear)로 정해\n",
    "각각의 연산작업만 수행된다.\n",
    "\n",
    "Rear에서 이루어지는 삽입 연산을 enQueue,\n",
    "Front에서 이루어지는 삭제 연산을 deQueue라고 한다."
   ]
  },
  {
   "cell_type": "code",
   "execution_count": null,
   "id": "12d5ec84-7f7b-4dd9-bfea-61392e3cd545",
   "metadata": {},
   "outputs": [],
   "source": [
    "from collections import deque\n",
    "\n",
    "# 큐 구현을 위해 deque 라이브러리 사용\n",
    "queue = deque()\n",
    "\n",
    "# 삽입(5) - 삽입(2) - 삽입(3) - 삽입(7) - 삭제() - 삽입(1) - 삽입(4) - 삭제()\n",
    "queue.append(5)\n",
    "queue.append(2)\n",
    "queue.append(3)\n",
    "queue.append(7)\n",
    "queue.popleft() # 기본적으로 append는 오른쪽 삽입이니까 디큐는 왼쪽\n",
    "queue.append(1)\n",
    "queue.append(4)\n",
    "queue.popleft()\n",
    "\n",
    "print(queue) # 먼저 들어온 순서대로 출력\n",
    "\n"
   ]
  }
 ],
 "metadata": {
  "kernelspec": {
   "display_name": "Python 3 (ipykernel)",
   "language": "python",
   "name": "python3"
  },
  "language_info": {
   "codemirror_mode": {
    "name": "ipython",
    "version": 3
   },
   "file_extension": ".py",
   "mimetype": "text/x-python",
   "name": "python",
   "nbconvert_exporter": "python",
   "pygments_lexer": "ipython3",
   "version": "3.10.9"
  }
 },
 "nbformat": 4,
 "nbformat_minor": 5
}
