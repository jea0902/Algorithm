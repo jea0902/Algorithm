{
 "cells": [
  {
   "cell_type": "markdown",
   "id": "fb0b1844-0699-49fb-ab72-0d14e415cd18",
   "metadata": {},
   "source": [
    "DFS & BFS란?\n",
    "https://veggie-garden.tistory.com/42"
   ]
  },
  {
   "cell_type": "code",
   "execution_count": null,
   "id": "1bde2914-bec0-4964-8294-91c129d5c094",
   "metadata": {},
   "outputs": [],
   "source": [
    "DFS(Depth-First Search) - 깊이 먼저 서치\n",
    "BFS(Breadth-First Search) - 폭, 퍼짐 먼저 서치\n",
    "\n",
    "둘다 그래프 탐색 알고리즘이다.\n",
    "그래프 탐색 알고리즘이란, 그래프의 모든 꼭짓점(Node)을 방문하는 알고리즘.\n",
    "\n",
    "DFS와 BFS의 차이점은 노드 방문 순서.\n",
    "\n",
    "\n",
    "DFS는 깊이 우선 탐색이라는 이름답게 그래프의 깊은 부분을 우선적으로 탐색하는 알고리즘이다.\n",
    "스택 자료구조를 사용하여 그래프의 가장 깊은 곳 가지 방문한 뒤, 다시 돌아가 다른 경로를 탐색한다.\n",
    "\n",
    "구체적 동작 과정 : \n",
    "    1. 탐색 시작 노드를 스택에 삽입하고 방문처리.\n",
    "   # 2. 스택의 최상단 노드에 방문하지 않은 인접 노드가 있다면 그 노드를 스택에 넣고 방문처리.
     #     만약 방문하지 않은 인접 노드가 없으면 스택에서 최상단 노드를 꺼내어 제거.\n",
    "    (최상단 도착하고서부터 스택에서 제거해나가기 시작)\n",
    "    3. 2번의 과정을 더 이상 수행할 수 없을 때까지 반복."
   ]
  },
  {
   "cell_type": "code",
   "execution_count": null,
   "id": "d6f2b37c-e4c8-4f9a-b479-7bb2ce61b6bc",
   "metadata": {},
   "outputs": [],
   "source": []
  },
  {
   "cell_type": "code",
   "execution_count": null,
   "id": "89a4ea34-b1c6-4c55-9211-f6b520e56286",
   "metadata": {},
   "outputs": [],
   "source": [
    "# DFS 스택 또는 재귀 함수\n",
    "# 여기서는 재귀 함수를 사용\n",
    "\n",
    "graph = [\n",
    "    [], # 0 \n",
    "    [2,3], # 1\n",
    "    [4,5], # 2\n",
    "    [6], # 3\n",
    "    [2,5], # 4\n",
    "    [2,4], # 5\n",
    "    [3,7], # 6\n",
    "    [6] # 7\n",
    "]\n",
    "\n",
    "# 방문 정보를 기록하기 위한 리스트\n",
    "visited - [False]*8\n",
    "\n",
    "def dfs(v):\n",
    "    # 방문표시\n",
    "    visited[v] = True\n",
    "    print(v,end=' ')\n",
    "    # 그래프를 순환하면서 인접 노드들을 방문\n",
    "    for i in graph[v]:\n",
    "        # 만약 방문하지 않은 노드가 있다면\n",
    "        if not visited[i]:\n",
    "            # 탐색 시작\n",
    "            dfs(i)\n",
    "# 탐색 시작 노드 1을 넣어주며 dfs()실행\n",
    "dfs(1)"
   ]
  },
  {
   "cell_type": "code",
   "execution_count": null,
   "id": "dc487dce-9ead-40d9-ac29-a8c8814fd596",
   "metadata": {},
   "outputs": [],
   "source": [
    "BFS 너비 우선 탐색이라는 이름에 걸맞게 그래프의 너비부터 탐색.\n",
    "DFS가 세로로 탐색하는 반면, BFS는 그래프를 가로로 탐색.\n",
    "BFS는 인접 노드를 계속 큐에 넣어가며 큐에 들어온 순서대로 탐색을 시작하기에\n",
    "시작 노드에서부터 가까운 노드들부터 탐색한다는 의미.\n",
    "\n",
    "구체적인 동작 과정:\n",
    "    1. 탐색 시작 노드를 큐에 삽입하고 방문처리.\n",
    "    2. 큐에서 노드를 꺼내 해당 노드의 방문하지 않은 모든 인접 노드를 모두 큐에 삽입하고 방문처리.\n",
    "    (큐에 삽입한 애들을 하나씩 꺼내면서 인접노드 확인하는 것)\n",
    "    3. 2번 과정을 더이상 수행할 수 없을 떄까지 반복.\n",
    "    \n",
    "\n",
    "# BFS는 시간 복잡도를 가지고 있으며 큐를 사용하기에 deque 라이브러리를 사용하는 것을  추천.\n",
    "# 일반적으로 BFS가 재귀로 구현한 DFS보다 조금 더 빠르게 동작."
   ]
  },
  {
   "cell_type": "code",
   "execution_count": null,
   "id": "5359cb77-ef3f-4122-ab59-b9a105ef5f1d",
   "metadata": {},
   "outputs": [],
   "source": [
    "from collections import deque\n",
    "\n",
    "graph = [\n",
    "    [], # 0 \n",
    "    [2,3], # 1\n",
    "    [4,5], # 2\n",
    "    [6], # 3\n",
    "    [2,5], # 4\n",
    "    [2,4], # 5\n",
    "    [3,7], # 6\n",
    "    [6] # 7\n",
    "]\n",
    "\n",
    "visited = [False]*8\n",
    "\n",
    "def bfs(v):\n",
    "    # 큐 생성 및 큐에 시작 노드 삽입\n",
    "    q = deque()\n",
    "    q.append(v)\n",
    "    # 아직 방문해야 하는 노드가 있다면\n",
    "    while q:\n",
    "        # 큐에서 노드를 꺼내서 x에 저장\n",
    "        x = q.popleft()\n",
    "        print(x,end=' ')\n",
    "        # 그래프를 탐색하다가 방문하지 않은 노드가 있따면\n",
    "        for i in graph[x]:\n",
    "            if not visited[i]:\n",
    "                # 큐에 방문하라고 삽입하고 방문 처리\n",
    "                q.append(i)\n",
    "                visited[i] = True\n",
    "bfs(1)"
   ]
  },
  {
   "cell_type": "code",
   "execution_count": null,
   "id": "cb9394db-5f6d-401d-abfa-fef3b89e4046",
   "metadata": {},
   "outputs": [],
   "source": [
    "DFS\n",
    "# 스택 또는 재귀 함수\n",
    "# 최적 해라는 보장 없음\n",
    "# 그래프 규모가 클 때\n",
    "# 특정 목표 노드를 찾을 때\n",
    "\n",
    "BFS\n",
    "# 큐\n",
    "# 항상 최적 해임을 보장\n",
    "# 그래프 규모가 작을 때\n",
    "# 최단 경로를 찾을 때"
   ]
  }
 ],
 "metadata": {
  "kernelspec": {
   "display_name": "Python 3 (ipykernel)",
   "language": "python",
   "name": "python3"
  },
  "language_info": {
   "codemirror_mode": {
    "name": "ipython",
    "version": 3
   },
   "file_extension": ".py",
   "mimetype": "text/x-python",
   "name": "python",
   "nbconvert_exporter": "python",
   "pygments_lexer": "ipython3",
   "version": "3.10.9"
  }
 },
 "nbformat": 4,
 "nbformat_minor": 5
}
